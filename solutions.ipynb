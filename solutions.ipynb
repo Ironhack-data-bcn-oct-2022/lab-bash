{
 "cells": [
  {
   "cell_type": "markdown",
   "metadata": {
    "lang": "en"
   },
   "source": [
    "### Exercises"
   ]
  },
  {
   "cell_type": "markdown",
   "metadata": {
    "lang": "en"
   },
   "source": [
    "#### Print Hello World to console."
   ]
  },
  {
   "cell_type": "raw",
   "metadata": {},
   "source": [
    "The command: echo \"Hello World\""
   ]
  },
  {
   "cell_type": "markdown",
   "metadata": {
    "lang": "en"
   },
   "source": [
    "#### Create a new directory called new_dir."
   ]
  },
  {
   "cell_type": "raw",
   "metadata": {},
   "source": [
    "The command: mkdir new_dir"
   ]
  },
  {
   "cell_type": "markdown",
   "metadata": {
    "lang": "en"
   },
   "source": [
    "#### Delete that directory."
   ]
  },
  {
   "cell_type": "raw",
   "metadata": {},
   "source": [
    "The command: rm -r new_dir"
   ]
  },
  {
   "cell_type": "markdown",
   "metadata": {
    "lang": "en"
   },
   "source": [
    "#### Print Hello World to console."
   ]
  },
  {
   "cell_type": "raw",
   "metadata": {},
   "source": [
    "The command: echo \"Hello World\""
   ]
  },
  {
   "cell_type": "markdown",
   "metadata": {
    "lang": "en"
   },
   "source": [
    "#### Create a new directory called new_dir."
   ]
  },
  {
   "cell_type": "raw",
   "metadata": {},
   "source": [
    "The command: mkdir new_dir"
   ]
  },
  {
   "cell_type": "markdown",
   "metadata": {
    "lang": "en"
   },
   "source": [
    "#### Delete that directory."
   ]
  },
  {
   "cell_type": "raw",
   "metadata": {},
   "source": [
    "The command: rm -r new_dir"
   ]
  },
  {
   "cell_type": "markdown",
   "metadata": {
    "lang": "en"
   },
   "source": [
    "#### Copy the sed.txt file inside the lorem folder to the lorem-copy folder (you might need to look the documentation up)."
   ]
  },
  {
   "cell_type": "raw",
   "metadata": {},
   "source": [
    "The command: cd lorem\n",
    "mkdir lorem_copy\n",
    "cp lorem/sed.txt lorem_copy/"
   ]
  },
  {
   "cell_type": "markdown",
   "metadata": {
    "lang": "en"
   },
   "source": [
    "#### Copy the other two files from the lorem folder to the lorem-copy folder in a single line using ;."
   ]
  },
  {
   "cell_type": "raw",
   "metadata": {},
   "source": [
    "The command: cp lorem/at.txt lorem_copy; cp lorem/lorem.txt lorem_copy/"
   ]
  },
  {
   "cell_type": "markdown",
   "metadata": {
    "lang": "en"
   },
   "source": [
    "#### Shows the content of the sed.txt file inside the lorem folder."
   ]
  },
  {
   "cell_type": "raw",
   "metadata": {},
   "source": [
    "The command: cd lorem ; cat sed.txt"
   ]
  },
  {
   "cell_type": "markdown",
   "metadata": {
    "lang": "en"
   },
   "source": [
    "#### Shows the contents of the at.txt and lorem.txt files inside the lorem folder."
   ]
  },
  {
   "cell_type": "raw",
   "metadata": {},
   "source": [
    "The command: cat at.txt; cat lorem.txt"
   ]
  },
  {
   "cell_type": "markdown",
   "metadata": {
    "lang": "en"
   },
   "source": [
    "#### Display the first 3 lines of the sed.txt file inside the lorem-copy folder"
   ]
  },
  {
   "cell_type": "raw",
   "metadata": {},
   "source": [
    "The command: cd lorem_copy ; head -3 sed.txt "
   ]
  },
  {
   "cell_type": "markdown",
   "metadata": {
    "lang": "en"
   },
   "source": [
    "#### View the last 3 lines of the sed.txt file inside the lorem-copy folder"
   ]
  },
  {
   "cell_type": "raw",
   "metadata": {},
   "source": [
    "The command: cd lorem_copy;  tail -3 sed.txt "
   ]
  },
  {
   "cell_type": "markdown",
   "metadata": {
    "lang": "en"
   },
   "source": [
    "#### Add Homo homini lupus. at the end of the sed.txt file inside the lorem-copy folder."
   ]
  },
  {
   "cell_type": "raw",
   "metadata": {},
   "source": [
    "The command: cd lorem_copy; nano Homo homini lupus "
   ]
  },
  {
   "cell_type": "markdown",
   "metadata": {
    "lang": "en"
   },
   "source": [
    "#### Display the last 3 lines of the sed.txt file inside the lorem-copy folder. You should now see Homo homini lupus"
   ]
  },
  {
   "cell_type": "raw",
   "metadata": {},
   "source": [
    "The command: *keeping in mind the current directory remains lorem_copy* tail -3 sed.txt"
   ]
  },
  {
   "cell_type": "markdown",
   "metadata": {
    "lang": "en"
   },
   "source": [
    "#### Replaces all occurrences of et with ET from the at.txt file inside the lorem-copy folder. You should use sed."
   ]
  },
  {
   "cell_type": "raw",
   "metadata": {},
   "source": [
    "The command: sed 's/et/ET/' at.txt"
   ]
  },
  {
   "cell_type": "markdown",
   "metadata": {
    "lang": "en"
   },
   "source": [
    "#### Find the active user on the system."
   ]
  },
  {
   "cell_type": "raw",
   "metadata": {},
   "source": [
    "The command: users "
   ]
  },
  {
   "cell_type": "markdown",
   "metadata": {
    "lang": "en"
   },
   "source": [
    "#### Find where you are in your file system."
   ]
  },
  {
   "cell_type": "raw",
   "metadata": {},
   "source": [
    "The command: pwd"
   ]
  },
  {
   "cell_type": "markdown",
   "metadata": {
    "lang": "en"
   },
   "source": [
    "#### List files ending with .txt in the lorem folder."
   ]
  },
  {
   "cell_type": "raw",
   "metadata": {},
   "source": [
    "The command: cd lorem; ls ./*.txt"
   ]
  },
  {
   "cell_type": "markdown",
   "metadata": {
    "lang": "en"
   },
   "source": [
    "#### Counts the number of lines in the sed.txt file inside the lorem folder."
   ]
  },
  {
   "cell_type": "raw",
   "metadata": {},
   "source": [
    "The command: wc -l sed.txt"
   ]
  },
  {
   "cell_type": "markdown",
   "metadata": {
    "lang": "en"
   },
   "source": [
    "#### Counts the number of files starting with lorem that are in this directory and in internal directories."
   ]
  },
  {
   "cell_type": "raw",
   "metadata": {},
   "source": [
    "The command: ls lorem | wc -l ; ls lorem_copy | wc -l; ls | wc -l "
   ]
  },
  {
   "cell_type": "markdown",
   "metadata": {
    "lang": "en"
   },
   "source": [
    "#### Find all occurrences of et in at.txt inside the lorem folder."
   ]
  },
  {
   "cell_type": "raw",
   "metadata": {},
   "source": [
    "The command: cd lorem; grep \"et\" at.txt\n"
   ]
  },
  {
   "cell_type": "markdown",
   "metadata": {
    "lang": "en"
   },
   "source": [
    "#### Counts the number of occurrences of the string et in at.txt inside the lorem folder."
   ]
  },
  {
   "cell_type": "raw",
   "metadata": {},
   "source": [
    "The command: grep \"et\" at.txt | wc -w"
   ]
  },
  {
   "cell_type": "markdown",
   "metadata": {
    "lang": "en"
   },
   "source": [
    "#### Counts the number of occurrences of the string et in all files in the lorem-copy directory."
   ]
  },
  {
   "cell_type": "raw",
   "metadata": {},
   "source": [
    "The command: cd lorem_copy ; grep -o \"et\" *.txt | wc -l\n"
   ]
  },
  {
   "cell_type": "markdown",
   "metadata": {},
   "source": [
    "### BONUS"
   ]
  },
  {
   "cell_type": "markdown",
   "metadata": {
    "lang": "en"
   },
   "source": [
    "#### Store your name in a name variable."
   ]
  },
  {
   "cell_type": "raw",
   "metadata": {},
   "source": [
    "The command: name=Cason "
   ]
  },
  {
   "cell_type": "markdown",
   "metadata": {
    "lang": "en"
   },
   "source": [
    "#### Print that variable."
   ]
  },
  {
   "cell_type": "raw",
   "metadata": {},
   "source": [
    "The command: echo $name"
   ]
  },
  {
   "cell_type": "markdown",
   "metadata": {
    "lang": "en"
   },
   "source": [
    "#### Create a new directory named as the content of the name variable."
   ]
  },
  {
   "cell_type": "raw",
   "metadata": {},
   "source": [
    "The command: mkdir $name"
   ]
  },
  {
   "cell_type": "markdown",
   "metadata": {
    "lang": "en"
   },
   "source": [
    "#### Delete that directory."
   ]
  },
  {
   "cell_type": "raw",
   "metadata": {},
   "source": [
    "The command: rm -r $name"
   ]
  },
  {
   "cell_type": "markdown",
   "metadata": {
    "lang": "en"
   },
   "source": [
    "#### For each file inside the folder lorem prints the number of characters their names have. First try to display the files using a for loop:\n",
    "\n",
    "- Print the files\n",
    "- Print the lengths of the file names\n",
    "- Print outputs with the following structure: lorem has 5 characters length"
   ]
  },
  {
   "cell_type": "raw",
   "metadata": {},
   "source": [
    "The command: cd lorem ; for file in * ; do\n",
    "    echo -n \"$file \"\n",
    "    character= echo -n \"$file\" | wc -c\n",
    "    echo \" has: \" $character \n",
    "done \n"
   ]
  },
  {
   "cell_type": "markdown",
   "metadata": {
    "lang": "en"
   },
   "source": [
    "#### Shows the processes in a hierarchical way that are running on your computer:\n",
    "\n",
    "- Using the top or htop command\n",
    "- Using the ps command with arguments"
   ]
  },
  {
   "cell_type": "raw",
   "metadata": {},
   "source": [
    "The command:"
   ]
  },
  {
   "cell_type": "markdown",
   "metadata": {
    "lang": "en"
   },
   "source": [
    "#### Displays information about your processor on the screen"
   ]
  },
  {
   "cell_type": "raw",
   "metadata": {},
   "source": [
    "The command:"
   ]
  },
  {
   "cell_type": "markdown",
   "metadata": {
    "lang": "en"
   },
   "source": [
    "#### Create 3 aliases and make them available every time you login"
   ]
  },
  {
   "cell_type": "raw",
   "metadata": {},
   "source": [
    "The command:"
   ]
  },
  {
   "cell_type": "markdown",
   "metadata": {
    "lang": "en"
   },
   "source": [
    "#### Compress the lorem and lorem-copy folders into a file called lorem-compressed.tar.gz"
   ]
  },
  {
   "cell_type": "raw",
   "metadata": {},
   "source": [
    "The command:"
   ]
  },
  {
   "cell_type": "markdown",
   "metadata": {
    "lang": "en"
   },
   "source": [
    "#### Unpack the lorem-compressed.tar.gz file into the lorem-uncompressed folder"
   ]
  },
  {
   "cell_type": "raw",
   "metadata": {},
   "source": [
    "The command:"
   ]
  },
  {
   "cell_type": "markdown",
   "metadata": {
    "lang": "en"
   },
   "source": [
    "#### Unpack the lorem-compressed.tar.gz file into the lorem-uncompressed folder"
   ]
  },
  {
   "cell_type": "raw",
   "metadata": {},
   "source": [
    "The command:"
   ]
  }
 ],
 "metadata": {
  "kernelspec": {
   "display_name": "Python 3",
   "language": "python",
   "name": "python3"
  },
  "language_info": {
   "codemirror_mode": {
    "name": "ipython",
    "version": 3
   },
   "file_extension": ".py",
   "mimetype": "text/x-python",
   "name": "python",
   "nbconvert_exporter": "python",
   "pygments_lexer": "ipython3",
   "version": "3.7.6"
  },
  "nbTranslate": {
   "displayLangs": [
    "en",
    "es"
   ],
   "hotkey": "alt-a",
   "langInMainMenu": true,
   "sourceLang": "es",
   "targetLang": "en",
   "useGoogleTranslate": true
  },
  "toc": {
   "base_numbering": 1,
   "nav_menu": {},
   "number_sections": true,
   "sideBar": true,
   "skip_h1_title": true,
   "title_cell": "Table of Contents",
   "title_sidebar": "Contents",
   "toc_cell": false,
   "toc_position": {},
   "toc_section_display": true,
   "toc_window_display": false
  }
 },
 "nbformat": 4,
 "nbformat_minor": 4
}
