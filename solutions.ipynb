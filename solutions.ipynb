{
 "cells": [
  {
   "cell_type": "markdown",
   "metadata": {
    "lang": "en"
   },
   "source": [
    "### Exercises"
   ]
  },
  {
   "cell_type": "markdown",
   "metadata": {
    "lang": "en"
   },
   "source": [
    "#### Print Hello World to console."
   ]
  },
  {
   "cell_type": "raw",
   "metadata": {},
   "source": [
    "The command: echo \"Hello World\""
   ]
  },
  {
   "cell_type": "markdown",
   "metadata": {
    "lang": "en"
   },
   "source": [
    "#### Create a new directory called new_dir."
   ]
  },
  {
   "cell_type": "raw",
   "metadata": {},
   "source": [
    "The command: mkdir new_dir"
   ]
  },
  {
   "cell_type": "markdown",
   "metadata": {
    "lang": "en"
   },
   "source": [
    "#### Delete that directory."
   ]
  },
  {
   "cell_type": "raw",
   "metadata": {},
   "source": [
    "The command: rmdir new_dir"
   ]
  },
  {
   "cell_type": "markdown",
   "metadata": {
    "lang": "en"
   },
   "source": [
    "#### Print Hello World to console."
   ]
  },
  {
   "cell_type": "raw",
   "metadata": {},
   "source": [
    "The command: echo \"Hello World\""
   ]
  },
  {
   "cell_type": "markdown",
   "metadata": {
    "lang": "en"
   },
   "source": [
    "#### Create a new directory called new_dir."
   ]
  },
  {
   "cell_type": "raw",
   "metadata": {},
   "source": [
    "The command: mkdir new_dir"
   ]
  },
  {
   "cell_type": "markdown",
   "metadata": {
    "lang": "en"
   },
   "source": [
    "#### Delete that directory."
   ]
  },
  {
   "cell_type": "raw",
   "metadata": {},
   "source": [
    "The command: rmdir new"
   ]
  },
  {
   "cell_type": "markdown",
   "metadata": {
    "lang": "en"
   },
   "source": [
    "#### Copy the sed.txt file inside the lorem folder to the lorem-copy folder (you might need to look the documentation up)."
   ]
  },
  {
   "cell_type": "raw",
   "metadata": {},
   "source": [
    "The command: \n",
    "mkdir lorem-copy\n",
    "cd lorem\n",
    "cp sed.txt ~/OneDrive/Escritorio/D1LAB/lab-bash/lorem-copy"
   ]
  },
  {
   "cell_type": "markdown",
   "metadata": {
    "lang": "en"
   },
   "source": [
    "#### Copy the other two files from the lorem folder to the lorem-copy folder in a single line using ;."
   ]
  },
  {
   "cell_type": "raw",
   "metadata": {},
   "source": [
    "The command:\n",
    "cp at.txt lorem.txt ~/OneDrive/Escritorio/D1LAB/lab-bash/lorem-copy\n",
    "\n",
    "Found a way without needing to use two concatenated commands."
   ]
  },
  {
   "cell_type": "markdown",
   "metadata": {
    "lang": "en"
   },
   "source": [
    "#### Shows the content of the sed.txt file inside the lorem folder."
   ]
  },
  {
   "cell_type": "raw",
   "metadata": {},
   "source": [
    "The command: cat lorem/sed.txt"
   ]
  },
  {
   "cell_type": "markdown",
   "metadata": {
    "lang": "en"
   },
   "source": [
    "#### Shows the contents of the at.txt and lorem.txt files inside the lorem folder."
   ]
  },
  {
   "cell_type": "raw",
   "metadata": {},
   "source": [
    "The command: cat at.txt lorem/lorem.txt"
   ]
  },
  {
   "cell_type": "markdown",
   "metadata": {
    "lang": "en"
   },
   "source": [
    "#### Display the first 3 lines of the sed.txt file inside the lorem-copy folder"
   ]
  },
  {
   "cell_type": "raw",
   "metadata": {},
   "source": [
    "The command: head -3 lorem-copy/sed.txt"
   ]
  },
  {
   "cell_type": "markdown",
   "metadata": {
    "lang": "en"
   },
   "source": [
    "#### View the last 3 lines of the sed.txt file inside the lorem-copy folder"
   ]
  },
  {
   "cell_type": "raw",
   "metadata": {},
   "source": [
    "The command: tail -3 lorem-copy/sed.txt"
   ]
  },
  {
   "cell_type": "markdown",
   "metadata": {
    "lang": "en"
   },
   "source": [
    "#### Add Homo homini lupus. at the end of the sed.txt file inside the lorem-copy folder."
   ]
  },
  {
   "cell_type": "raw",
   "metadata": {},
   "source": [
    "The command: echo \" Homo homini lupus.\" >> lorem-copy/sed.txt"
   ]
  },
  {
   "cell_type": "markdown",
   "metadata": {
    "lang": "en"
   },
   "source": [
    "#### Display the last 3 lines of the sed.txt file inside the lorem-copy folder. You should now see Homo homini lupus"
   ]
  },
  {
   "cell_type": "raw",
   "metadata": {},
   "source": [
    "The command: tail -3 lorem-copy/sed.txt"
   ]
  },
  {
   "cell_type": "markdown",
   "metadata": {
    "lang": "en"
   },
   "source": [
    "#### Replaces all occurrences of et with ET from the at.txt file inside the lorem-copy folder. You should use sed."
   ]
  },
  {
   "cell_type": "raw",
   "metadata": {},
   "source": [
    "The command: sed -i 's/et/ET/g' lorem-copy/at.txt"
   ]
  },
  {
   "cell_type": "markdown",
   "metadata": {
    "lang": "en"
   },
   "source": [
    "#### Find the active user on the system."
   ]
  },
  {
   "cell_type": "raw",
   "metadata": {},
   "source": [
    "The command: \n",
    "id : Gives uid, gid and groups\n",
    "whoami : Givies name of active user"
   ]
  },
  {
   "cell_type": "markdown",
   "metadata": {
    "lang": "en"
   },
   "source": [
    "#### Find where you are in your file system."
   ]
  },
  {
   "cell_type": "raw",
   "metadata": {},
   "source": [
    "The command: pwd"
   ]
  },
  {
   "cell_type": "markdown",
   "metadata": {
    "lang": "en"
   },
   "source": [
    "#### List files ending with .txt in the lorem folder."
   ]
  },
  {
   "cell_type": "raw",
   "metadata": {},
   "source": [
    "The command: ls lorem/*.txt"
   ]
  },
  {
   "cell_type": "markdown",
   "metadata": {
    "lang": "en"
   },
   "source": [
    "#### Counts the number of lines in the sed.txt file inside the lorem folder."
   ]
  },
  {
   "cell_type": "raw",
   "metadata": {},
   "source": [
    "The command: wc -l lorem/sed.txt"
   ]
  },
  {
   "cell_type": "markdown",
   "metadata": {
    "lang": "en"
   },
   "source": [
    "#### Counts the number of files starting with lorem that are in this directory and in internal directories."
   ]
  },
  {
   "cell_type": "raw",
   "metadata": {},
   "source": [
    "The command: find ~/OneDrive/Escritorio/D1LAB/lab-bash -type f -name 'lorem*' | wc -l"
   ]
  },
  {
   "cell_type": "markdown",
   "metadata": {
    "lang": "en"
   },
   "source": [
    "#### Find all occurrences of et in at.txt inside the lorem folder."
   ]
  },
  {
   "cell_type": "raw",
   "metadata": {},
   "source": [
    "The command: \n",
    "grep --color=auto \"et\" lorem/at.txt : only lower case et\n",
    "grep -i --color=auto \"et\" lorem/at.txt : All of the et\n",
    "\n",
    "When using de -i parameter we count regardles of if the letter is lower or upper case."
   ]
  },
  {
   "cell_type": "markdown",
   "metadata": {
    "lang": "en"
   },
   "source": [
    "#### Counts the number of occurrences of the string et in at.txt inside the lorem folder."
   ]
  },
  {
   "cell_type": "raw",
   "metadata": {},
   "source": [
    "The command: \n",
    "grep -o -i \"et\" lorem/at.txt | wc -l"
   ]
  },
  {
   "cell_type": "markdown",
   "metadata": {
    "lang": "en"
   },
   "source": [
    "#### Counts the number of occurrences of the string et in all files in the lorem-copy directory."
   ]
  },
  {
   "cell_type": "raw",
   "metadata": {},
   "source": [
    "The command: \n",
    "grep -o -i \"et\" lorem/* | wc -l"
   ]
  },
  {
   "cell_type": "markdown",
   "metadata": {},
   "source": [
    "### BONUS"
   ]
  },
  {
   "cell_type": "markdown",
   "metadata": {
    "lang": "en"
   },
   "source": [
    "#### Store your name in a name variable."
   ]
  },
  {
   "cell_type": "raw",
   "metadata": {},
   "source": [
    "The command:\n",
    "name=Francesc"
   ]
  },
  {
   "cell_type": "markdown",
   "metadata": {
    "lang": "en"
   },
   "source": [
    "#### Print that variable."
   ]
  },
  {
   "cell_type": "raw",
   "metadata": {},
   "source": [
    "The command:\n",
    "echo $name"
   ]
  },
  {
   "cell_type": "markdown",
   "metadata": {
    "lang": "en"
   },
   "source": [
    "#### Create a new directory named as the content of the name variable."
   ]
  },
  {
   "cell_type": "raw",
   "metadata": {},
   "source": [
    "The command:\n",
    "mkdir $name"
   ]
  },
  {
   "cell_type": "markdown",
   "metadata": {
    "lang": "en"
   },
   "source": [
    "#### Delete that directory."
   ]
  },
  {
   "cell_type": "raw",
   "metadata": {},
   "source": [
    "The command:\n",
    "rmdir $name"
   ]
  },
  {
   "cell_type": "markdown",
   "metadata": {
    "lang": "en"
   },
   "source": [
    "#### For each file inside the folder lorem prints the number of characters their names have. First try to display the files using a for loop:\n",
    "\n",
    "- Print the files\n",
    "- Print the lengths of the file names\n",
    "- Print outputs with the following structure: lorem has 5 characters length"
   ]
  },
  {
   "cell_type": "raw",
   "metadata": {},
   "source": [
    "The command: \n",
    "for file in *; do echo ${#file}; done\n",
    "\n",
    "Run the prompt from the lorem directory."
   ]
  },
  {
   "cell_type": "markdown",
   "metadata": {
    "lang": "en"
   },
   "source": [
    "#### Shows the processes in a hierarchical way that are running on your computer:\n",
    "\n",
    "- Using the top or htop command\n",
    "- Using the ps command with arguments"
   ]
  },
  {
   "cell_type": "raw",
   "metadata": {},
   "source": [
    "The command: tasklist"
   ]
  },
  {
   "cell_type": "markdown",
   "metadata": {
    "lang": "en"
   },
   "source": [
    "#### Displays information about your processor on the screen"
   ]
  },
  {
   "cell_type": "raw",
   "metadata": {},
   "source": [
    "The command: cat /proc/cpuinfo"
   ]
  },
  {
   "cell_type": "markdown",
   "metadata": {
    "lang": "en"
   },
   "source": [
    "#### Create 3 aliases and make them available every time you login"
   ]
  },
  {
   "cell_type": "raw",
   "metadata": {},
   "source": [
    "The command:"
   ]
  },
  {
   "cell_type": "markdown",
   "metadata": {
    "lang": "en"
   },
   "source": [
    "#### Compress the lorem and lorem-copy folders into a file called lorem-compressed.tar.gz"
   ]
  },
  {
   "cell_type": "raw",
   "metadata": {},
   "source": [
    "The command: tar -zcvf lorem-compressed.tar.gz lorem lorem-copy"
   ]
  },
  {
   "cell_type": "markdown",
   "metadata": {
    "lang": "en"
   },
   "source": [
    "#### Unpack the lorem-compressed.tar.gz file into the lorem-uncompressed folder"
   ]
  },
  {
   "cell_type": "raw",
   "metadata": {},
   "source": [
    "The command: \n",
    "mkdir lorem-uncompressed\n",
    "tar -xzvf lorem-compressed.tar.gz -C lorem-uncompressed"
   ]
  },
  {
   "cell_type": "markdown",
   "metadata": {
    "lang": "en"
   },
   "source": [
    "#### Unpack the lorem-compressed.tar.gz file into the lorem-uncompressed folder"
   ]
  },
  {
   "cell_type": "raw",
   "metadata": {},
   "source": [
    "The command:\n",
    "mkdir lorem-uncompressed\n",
    "tar -xzvf lorem-compressed.tar.gz -C lorem-uncompressed"
   ]
  }
 ],
 "metadata": {
  "kernelspec": {
   "display_name": "Python 3 (ipykernel)",
   "language": "python",
   "name": "python3"
  },
  "language_info": {
   "codemirror_mode": {
    "name": "ipython",
    "version": 3
   },
   "file_extension": ".py",
   "mimetype": "text/x-python",
   "name": "python",
   "nbconvert_exporter": "python",
   "pygments_lexer": "ipython3",
   "version": "3.9.12"
  },
  "nbTranslate": {
   "displayLangs": [
    "en",
    "es"
   ],
   "hotkey": "alt-a",
   "langInMainMenu": true,
   "sourceLang": "es",
   "targetLang": "en",
   "useGoogleTranslate": true
  },
  "toc": {
   "base_numbering": 1,
   "nav_menu": {},
   "number_sections": true,
   "sideBar": true,
   "skip_h1_title": true,
   "title_cell": "Table of Contents",
   "title_sidebar": "Contents",
   "toc_cell": false,
   "toc_position": {},
   "toc_section_display": true,
   "toc_window_display": false
  }
 },
 "nbformat": 4,
 "nbformat_minor": 4
}
